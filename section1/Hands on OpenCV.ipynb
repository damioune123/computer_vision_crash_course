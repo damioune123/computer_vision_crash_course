{
 "cells": [
  {
   "cell_type": "code",
   "execution_count": 144,
   "metadata": {},
   "outputs": [],
   "source": [
    "import cv2"
   ]
  },
  {
   "cell_type": "code",
   "execution_count": 145,
   "metadata": {},
   "outputs": [],
   "source": [
    "# Loading image\n",
    "image = cv2.imread('./images/input.jpg')\n",
    "cv2.imshow('Loading Your First Image', image)\n",
    "cv2.waitKey()\n",
    "cv2.destroyAllWindows()"
   ]
  },
  {
   "cell_type": "code",
   "execution_count": 146,
   "metadata": {},
   "outputs": [],
   "source": [
    "# Making it gray\n",
    "gray_image = cv2.cvtColor(image, cv2.COLOR_BGR2GRAY)\n",
    "cv2.imshow(\"Applying grey filter\", gray_image)\n",
    "cv2.waitKey()\n",
    "cv2.destroyAllWindows()"
   ]
  },
  {
   "cell_type": "code",
   "execution_count": 147,
   "metadata": {},
   "outputs": [],
   "source": [
    "# Drawing a Rectangle \n",
    "cv2.rectangle(image, (153,208), (925,320), (127, 50, 127), 10)\n",
    "cv2.imshow(\"Drawing Rectangle\", image)\n",
    "cv2.waitKey()\n",
    "cv2.destroyAllWindows()"
   ]
  },
  {
   "cell_type": "code",
   "execution_count": 148,
   "metadata": {},
   "outputs": [],
   "source": [
    "# Writing text\n",
    "ourString = \"Hello Proxyclick!\"\n",
    "cv2.putText(image, ourString, (155,290), cv2.FONT_HERSHEY_SIMPLEX, 3, (240,170,0), 2)\n",
    "cv2.imshow(\"Writing text\", image)\n",
    "cv2.waitKey()\n",
    "cv2.destroyAllWindows()"
   ]
  },
  {
   "cell_type": "code",
   "execution_count": 149,
   "metadata": {},
   "outputs": [
    {
     "data": {
      "text/plain": [
       "True"
      ]
     },
     "execution_count": 149,
     "metadata": {},
     "output_type": "execute_result"
    }
   ],
   "source": [
    "# Saving the result\n",
    "cv2.imwrite('./images/output.jpg', image)"
   ]
  },
  {
   "cell_type": "code",
   "execution_count": 150,
   "metadata": {},
   "outputs": [],
   "source": [
    "# Scaling\n",
    "image = cv2.imread('./images/henry.jpg')\n",
    "\n",
    "\n",
    "# If no interpolation is specified cv.INTER_LINEAR is used as default\n",
    "# Let's make our image 3/4 of it's original size\n",
    "image_down_sized = cv2.resize(image, None, fx=0.25, fy=0.25)\n",
    "cv2.imshow('Scaling - Down sizing', image_down_sized) \n",
    "cv2.waitKey()\n",
    "# Let's double the size of our image\n",
    "img_scaled = cv2.resize(image_down_sized, None, fx=2, fy=2, interpolation = cv2.INTER_CUBIC)\n",
    "cv2.imshow('Scaling - Cubic Interpolation', img_scaled)\n",
    "cv2.waitKey()\n",
    "\n",
    "# Let's double the size of our image\n",
    "img_scaled = cv2.resize(image_down_sized, None, fx=2, fy=2, interpolation = cv2.INTER_LANCZOS4)\n",
    "cv2.imshow('Scaling - Inter Nearest', img_scaled)\n",
    "cv2.waitKey()\n",
    "cv2.destroyAllWindows()"
   ]
  },
  {
   "cell_type": "code",
   "execution_count": 151,
   "metadata": {},
   "outputs": [],
   "source": [
    "# Cropping images\n",
    "\n",
    "image = cv2.imread('./images/henry.jpg')\n",
    "image_scaled = cv2.resize(image, None, fx=0.5, fy=0.5)\n",
    "\n",
    "# Get out image dimensions\n",
    "height, width = image.shape[:2]\n",
    "\n",
    "# Let's get the starting pixel coordiantes (top  left of cropping rectangle)\n",
    "# using 0.25 to get the x,y position that is 1/4 down from the top left (0,0)\n",
    "start_row, start_col = 100, 500\n",
    "\n",
    "# Let's get the ending pixel coordinates (bottom right)\n",
    "end_row, end_col = 600, 980\n",
    "\n",
    "# Simply use indexing to crop out the rectangle we desire\n",
    "cropped = image_scaled[start_row:end_row , start_col:end_col]\n",
    "\n",
    "cv2.imshow(\"Original Image\", image_scaled)\n",
    "cv2.waitKey(0) \n",
    "\n",
    "# The cv2.rectangle function draws a rectangle over our image (in-place operation)\n",
    "copy = image_scaled.copy()\n",
    "cv2.rectangle(copy, (start_col,start_row), (end_col,end_row), (0,255,255), 10)\n",
    "cv2.imshow(\"Area we are cropping\", copy)\n",
    "cv2.waitKey(0) \n",
    "\n",
    "cv2.imshow(\"Cropped Image\", cropped) \n",
    "cv2.waitKey(0) \n",
    "cv2.destroyAllWindows()"
   ]
  },
  {
   "cell_type": "code",
   "execution_count": 152,
   "metadata": {},
   "outputs": [],
   "source": [
    "# Denoising\n",
    "\n",
    "image = cv2.imread('./images/proxyclick-office.jpg')\n",
    "cv2.imshow('Original image', image)\n",
    "cv2.waitKey(0) \n",
    "\n",
    "\n",
    "# Parameters, after None are - the filter strength 'h' (5-10 is a good range)\n",
    "# Next is hForColorComponents, set as same value as h again\n",
    "# \n",
    "dst = cv2.fastNlMeansDenoisingColored(image, None, 6, 6, 7, 21)\n",
    "\n",
    "cv2.imshow('Fast Means Denoising', dst)\n",
    "cv2.waitKey(0)\n",
    "\n",
    "cv2.destroyAllWindows()"
   ]
  },
  {
   "cell_type": "code",
   "execution_count": 153,
   "metadata": {},
   "outputs": [],
   "source": [
    "# Blurring\n",
    "image = cv2.imread('./images/proxyclick-office.jpg')\n",
    "cv2.imshow('Original image', image)\n",
    "cv2.waitKey(0) \n",
    "\n",
    "Gaussian = cv2.GaussianBlur(image, (3,3), 0)\n",
    "cv2.imshow('Gaussian Blurring', Gaussian)\n",
    "cv2.waitKey(0)\n",
    "cv2.destroyAllWindows()"
   ]
  },
  {
   "cell_type": "code",
   "execution_count": null,
   "metadata": {},
   "outputs": [],
   "source": []
  },
  {
   "cell_type": "code",
   "execution_count": null,
   "metadata": {},
   "outputs": [],
   "source": []
  }
 ],
 "metadata": {
  "kernelspec": {
   "display_name": "Python 3",
   "language": "python",
   "name": "python3"
  },
  "language_info": {
   "codemirror_mode": {
    "name": "ipython",
    "version": 3
   },
   "file_extension": ".py",
   "mimetype": "text/x-python",
   "name": "python",
   "nbconvert_exporter": "python",
   "pygments_lexer": "ipython3",
   "version": "3.8.5"
  }
 },
 "nbformat": 4,
 "nbformat_minor": 4
}